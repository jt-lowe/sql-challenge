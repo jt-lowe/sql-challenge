{
 "cells": [
  {
   "cell_type": "code",
   "execution_count": 1,
   "id": "aa611ac6",
   "metadata": {},
   "outputs": [
    {
     "name": "stdout",
     "output_type": "stream",
     "text": [
      "Requirement already satisfied: psycopg2-binary in c:\\users\\jtlow\\anaconda3\\lib\\site-packages (2.9.3)\n",
      "Note: you may need to restart the kernel to use updated packages.\n"
     ]
    }
   ],
   "source": [
    "pip install psycopg2-binary"
   ]
  },
  {
   "cell_type": "code",
   "execution_count": 17,
   "id": "f0d2d613",
   "metadata": {},
   "outputs": [],
   "source": [
    "#import pandas\n",
    "import pandas as pd\n",
    "\n",
    "#import SQLAlchemy dependancies\n",
    "from sqlalchemy import create_engine\n",
    "import psycopg2\n",
    "\n",
    "#import matplotlib\n",
    "import matplotlib.pyplot as plt\n",
    "import scipy.stats as st\n",
    "\n",
    "\n",
    "#import configurations for postgres db logins\n",
    "from config import un\n",
    "from config import pw\n",
    "from config import dbn\n",
    "\n",
    "engine = create_engine('postgresql://localhost:5432/EmployeeSQL')\n",
    "connection = psycopg2.connect(user=un, password=pw, dbname=dbn)\n"
   ]
  },
  {
   "cell_type": "code",
   "execution_count": 88,
   "id": "ef79e6e6",
   "metadata": {},
   "outputs": [
    {
     "name": "stdout",
     "output_type": "stream",
     "text": [
      "emp_no  salary\n",
      "False   False     300024\n",
      "dtype: int64\n",
      "title_id  title\n",
      "False     False    7\n",
      "dtype: int64\n",
      "emp_no  emp_title_id  birth_date  first_name  last_name  sex    hire_date\n",
      "False   False         False       False       False      False  False        300024\n",
      "dtype: int64\n"
     ]
    }
   ],
   "source": [
    "#read in salary,title and employee data from postgres database to perform analysis\n",
    "#we select these specific dataframes as the further analysis required by the assignment only requires info from these three tables\n",
    "sal_data = pd.read_sql(\"SELECT * FROM salaries\",connection)\n",
    "title_data = pd.read_sql(\"SELECT * FROM titles\",connection)\n",
    "emp_data = pd.read_sql(\"SELECT * FROM employees\",connection)\n",
    "\n",
    "#check to see if there are any null values\n",
    "print(sal_data.isnull().value_counts())\n",
    "print(title_data.isnull().value_counts())\n",
    "print(emp_data.isnull().value_counts())\n"
   ]
  },
  {
   "cell_type": "code",
   "execution_count": 84,
   "id": "bcdcf8c2",
   "metadata": {},
   "outputs": [
    {
     "data": {
      "text/html": [
       "<div>\n",
       "<style scoped>\n",
       "    .dataframe tbody tr th:only-of-type {\n",
       "        vertical-align: middle;\n",
       "    }\n",
       "\n",
       "    .dataframe tbody tr th {\n",
       "        vertical-align: top;\n",
       "    }\n",
       "\n",
       "    .dataframe thead th {\n",
       "        text-align: right;\n",
       "    }\n",
       "</style>\n",
       "<table border=\"1\" class=\"dataframe\">\n",
       "  <thead>\n",
       "    <tr style=\"text-align: right;\">\n",
       "      <th></th>\n",
       "      <th>emp_no</th>\n",
       "      <th>salary</th>\n",
       "    </tr>\n",
       "  </thead>\n",
       "  <tbody>\n",
       "    <tr>\n",
       "      <th>count</th>\n",
       "      <td>300024.000000</td>\n",
       "      <td>300024.000000</td>\n",
       "    </tr>\n",
       "    <tr>\n",
       "      <th>mean</th>\n",
       "      <td>253321.763392</td>\n",
       "      <td>52970.732451</td>\n",
       "    </tr>\n",
       "    <tr>\n",
       "      <th>std</th>\n",
       "      <td>161828.235540</td>\n",
       "      <td>14301.478491</td>\n",
       "    </tr>\n",
       "    <tr>\n",
       "      <th>min</th>\n",
       "      <td>10001.000000</td>\n",
       "      <td>40000.000000</td>\n",
       "    </tr>\n",
       "    <tr>\n",
       "      <th>25%</th>\n",
       "      <td>85006.750000</td>\n",
       "      <td>40000.000000</td>\n",
       "    </tr>\n",
       "    <tr>\n",
       "      <th>50%</th>\n",
       "      <td>249987.500000</td>\n",
       "      <td>48681.000000</td>\n",
       "    </tr>\n",
       "    <tr>\n",
       "      <th>75%</th>\n",
       "      <td>424993.250000</td>\n",
       "      <td>61758.000000</td>\n",
       "    </tr>\n",
       "    <tr>\n",
       "      <th>max</th>\n",
       "      <td>499999.000000</td>\n",
       "      <td>129492.000000</td>\n",
       "    </tr>\n",
       "  </tbody>\n",
       "</table>\n",
       "</div>"
      ],
      "text/plain": [
       "              emp_no         salary\n",
       "count  300024.000000  300024.000000\n",
       "mean   253321.763392   52970.732451\n",
       "std    161828.235540   14301.478491\n",
       "min     10001.000000   40000.000000\n",
       "25%     85006.750000   40000.000000\n",
       "50%    249987.500000   48681.000000\n",
       "75%    424993.250000   61758.000000\n",
       "max    499999.000000  129492.000000"
      ]
     },
     "execution_count": 84,
     "metadata": {},
     "output_type": "execute_result"
    }
   ],
   "source": [
    "#combine imported data into one DataFrame\n",
    "sal_emp = pd.merge(sal_data,emp_data, on=\"emp_no\")\n",
    "sal_emp_title = pd.merge(sal_emp,title_data,left_on=\"emp_title_id\",right_on=\"title_id\")\n",
    "set_simple = sal_emp_title[['emp_no','title','salary']]\n"
   ]
  },
  {
   "cell_type": "code",
   "execution_count": 85,
   "id": "dffa0a4a",
   "metadata": {
    "scrolled": true
   },
   "outputs": [
    {
     "data": {
      "text/plain": [
       "Text(0.5, 1.0, 'Occurrence of Salaries in Range')"
      ]
     },
     "execution_count": 85,
     "metadata": {},
     "output_type": "execute_result"
    },
    {
     "data": {
      "image/png": "[encoded data removed]",
      "text/plain": [
       "<Figure size 432x288 with 1 Axes>"
      ]
     },
     "metadata": {
      "needs_background": "light"
     },
     "output_type": "display_data"
    }
   ],
   "source": [
    "plt.hist(set_simple['salary'],10)\n",
    "\n",
    "plt.xlabel(\"Salary of an Employee\")\n",
    "plt.ylabel(\"Frequency\")\n",
    "plt.title(\"Occurrence of Salaries in Range\")"
   ]
  },
  {
   "cell_type": "code",
   "execution_count": 47,
   "id": "70e4a95d",
   "metadata": {},
   "outputs": [
    {
     "data": {
      "text/html": [
       "<div>\n",
       "<style scoped>\n",
       "    .dataframe tbody tr th:only-of-type {\n",
       "        vertical-align: middle;\n",
       "    }\n",
       "\n",
       "    .dataframe tbody tr th {\n",
       "        vertical-align: top;\n",
       "    }\n",
       "\n",
       "    .dataframe thead th {\n",
       "        text-align: right;\n",
       "    }\n",
       "</style>\n",
       "<table border=\"1\" class=\"dataframe\">\n",
       "  <thead>\n",
       "    <tr style=\"text-align: right;\">\n",
       "      <th></th>\n",
       "      <th>emp_no</th>\n",
       "      <th>salary</th>\n",
       "    </tr>\n",
       "    <tr>\n",
       "      <th>title</th>\n",
       "      <th></th>\n",
       "      <th></th>\n",
       "    </tr>\n",
       "  </thead>\n",
       "  <tbody>\n",
       "    <tr>\n",
       "      <th>Assistant Engineer</th>\n",
       "      <td>252992.595373</td>\n",
       "      <td>48564.434447</td>\n",
       "    </tr>\n",
       "    <tr>\n",
       "      <th>Engineer</th>\n",
       "      <td>253654.345919</td>\n",
       "      <td>48535.336511</td>\n",
       "    </tr>\n",
       "    <tr>\n",
       "      <th>Manager</th>\n",
       "      <td>110780.833333</td>\n",
       "      <td>51531.041667</td>\n",
       "    </tr>\n",
       "    <tr>\n",
       "      <th>Senior Engineer</th>\n",
       "      <td>253038.749885</td>\n",
       "      <td>48506.799871</td>\n",
       "    </tr>\n",
       "    <tr>\n",
       "      <th>Senior Staff</th>\n",
       "      <td>254481.798969</td>\n",
       "      <td>58550.172704</td>\n",
       "    </tr>\n",
       "    <tr>\n",
       "      <th>Staff</th>\n",
       "      <td>253408.503604</td>\n",
       "      <td>58465.382850</td>\n",
       "    </tr>\n",
       "    <tr>\n",
       "      <th>Technique Leader</th>\n",
       "      <td>251811.432730</td>\n",
       "      <td>48582.896092</td>\n",
       "    </tr>\n",
       "  </tbody>\n",
       "</table>\n",
       "</div>"
      ],
      "text/plain": [
       "                           emp_no        salary\n",
       "title                                          \n",
       "Assistant Engineer  252992.595373  48564.434447\n",
       "Engineer            253654.345919  48535.336511\n",
       "Manager             110780.833333  51531.041667\n",
       "Senior Engineer     253038.749885  48506.799871\n",
       "Senior Staff        254481.798969  58550.172704\n",
       "Staff               253408.503604  58465.382850\n",
       "Technique Leader    251811.432730  48582.896092"
      ]
     },
     "execution_count": 47,
     "metadata": {},
     "output_type": "execute_result"
    }
   ],
   "source": [
    "set_grouped=set_simple.groupby(['title'])\n",
    "sal_by_title = set_grouped.mean()\n",
    "sal_by_title.reset_index()\n",
    "sal_by_title"
   ]
  },
  {
   "cell_type": "code",
   "execution_count": 59,
   "id": "1f59daec",
   "metadata": {},
   "outputs": [
    {
     "data": {
      "text/plain": [
       "Text(0.5, 1.0, 'Average Salary by Title')"
      ]
     },
     "execution_count": 59,
     "metadata": {},
     "output_type": "execute_result"
    },
    {
     "data": {
      "image/png": "[encoded data removed]",
      "text/plain": [
       "<Figure size 432x288 with 1 Axes>"
      ]
     },
     "metadata": {
      "needs_background": "light"
     },
     "output_type": "display_data"
    }
   ],
   "source": [
    "plt.bar(sal_by_title.index,sal_by_title.salary)\n",
    "\n",
    "plt.xticks(rotation=\"90\")\n",
    "plt.xlabel(\"Title of Employee\")\n",
    "plt.ylabel(\"Average Salary\")\n",
    "plt.title(\"Average Salary by Title\")"
   ]
  },
  {
   "cell_type": "markdown",
   "id": "05f92439",
   "metadata": {},
   "source": [
    "# Analysis\n",
    "\n",
    "The range shown by the histogram that the majority of employees earn within the 40,000 to 50,000 range. This is unlikely due to the differing levels of employees within the DataFrame (i.e. ranging from \"Staff\" to \"Managers\" we'd likely expect a bit more of a spread)\n",
    "\n",
    "The bar chart describing average Salary shows that Managers, Senior/Regular/Assistant Engineers and Technique Leaders, on average, are making less than a regular Staff member, which is also highly unlikely."
   ]
  }
 ],
 "metadata": {
  "kernelspec": {
   "display_name": "Python 3",
   "language": "python",
   "name": "python3"
  },
  "language_info": {
   "codemirror_mode": {
    "name": "ipython",
    "version": 3
   },
   "file_extension": ".py",
   "mimetype": "text/x-python",
   "name": "python",
   "nbconvert_exporter": "python",
   "pygments_lexer": "ipython3",
   "version": "3.8.8"
  }
 },
 "nbformat": 4,
 "nbformat_minor": 5
}
